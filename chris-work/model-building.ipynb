{
 "cells": [
  {
   "cell_type": "markdown",
   "metadata": {},
   "source": []
  },
  {
   "cell_type": "code",
   "execution_count": 1,
   "metadata": {},
   "outputs": [],
   "source": [
    "import pandas as pd\n",
    "import numpy as np\n",
    "from sklearn.model_selection import train_test_split, cross_val_score, GridSearchCV, RandomizedSearchCV\n",
    "from sklearn.ensemble import RandomForestClassifier\n",
    "from sklearn.linear_model import LogisticRegression\n",
    "from sklearn.metrics import confusion_matrix, accuracy_score, precision_score, roc_auc_score, classification_report\n",
    "from sklearn.model_selection import cross_val_score\n"
   ]
  },
  {
   "cell_type": "code",
   "execution_count": 2,
   "metadata": {},
   "outputs": [],
   "source": [
    "def eval_sklearn_model(y_true, predictions, model=None, X=None):\n",
    "    \"\"\"This function takes the true values for y and the predictions made by the model and prints out the confusion matrix along with Accuracy, Precision, and, if model and X provided, Roc_Auc Scores.\"\"\"\n",
    "    cnf_matrix = confusion_matrix(y_true, predictions)\n",
    "\n",
    "    print('True Negative: ', cnf_matrix[0, 0], '| False Positive: ', cnf_matrix[0, 1])\n",
    "    print('False Negative: ', cnf_matrix[1, 0], '| True Positive: ', cnf_matrix[1, 1], '\\n')\n",
    "\n",
    "    sensitivity = cnf_matrix[1, 1]/ (cnf_matrix[1, 0] + cnf_matrix[1, 1])\n",
    "    specificity = cnf_matrix[0, 0]/ (cnf_matrix[0, 1] + cnf_matrix[0, 0])\n",
    "\n",
    "    print('Sensitivity (TP/ TP + FN): ', sensitivity)\n",
    "    print('Specificity (TN/ TN + FP): ', specificity, '\\n')\n",
    "\n",
    "    print('Accuracy: ', accuracy_score(y_true, predictions, normalize=True))\n",
    "    print('Precision: ', precision_score(y_true, predictions))\n",
    "    if model != None:\n",
    "        print('Roc-Auc: ', roc_auc_score(y_true, [x[1] for x in model.predict_proba(X)]))\n",
    "    else:\n",
    "        pass\n",
    "    print('\\n')\n"
   ]
  },
  {
   "cell_type": "code",
   "execution_count": 3,
   "metadata": {},
   "outputs": [],
   "source": [
    "model_data = pd.read_csv('../data/model_data.csv').drop('date', axis=1)\n"
   ]
  },
  {
   "cell_type": "code",
   "execution_count": 4,
   "metadata": {},
   "outputs": [
    {
     "data": {
      "text/html": [
       "<div>\n",
       "<style scoped>\n",
       "    .dataframe tbody tr th:only-of-type {\n",
       "        vertical-align: middle;\n",
       "    }\n",
       "\n",
       "    .dataframe tbody tr th {\n",
       "        vertical-align: top;\n",
       "    }\n",
       "\n",
       "    .dataframe thead th {\n",
       "        text-align: right;\n",
       "    }\n",
       "</style>\n",
       "<table border=\"1\" class=\"dataframe\">\n",
       "  <thead>\n",
       "    <tr style=\"text-align: right;\">\n",
       "      <th></th>\n",
       "      <th>nummosquitos</th>\n",
       "      <th>wnvpresent</th>\n",
       "      <th>culex_erraticus</th>\n",
       "      <th>culex_pipiens</th>\n",
       "      <th>culex_pipiens/restuans</th>\n",
       "      <th>culex_restuans</th>\n",
       "      <th>culex_salinarius</th>\n",
       "      <th>culex_tarsalis</th>\n",
       "      <th>culex_territans</th>\n",
       "      <th>week</th>\n",
       "      <th>ten_day_avg_percip</th>\n",
       "      <th>ten_day_avg_temp</th>\n",
       "      <th>ten_day_avg_dewpoint</th>\n",
       "      <th>ten_day_avg_pressure</th>\n",
       "      <th>ten_day_avg_windspeed</th>\n",
       "    </tr>\n",
       "  </thead>\n",
       "  <tbody>\n",
       "    <tr>\n",
       "      <th>0</th>\n",
       "      <td>1</td>\n",
       "      <td>0</td>\n",
       "      <td>0</td>\n",
       "      <td>0</td>\n",
       "      <td>1</td>\n",
       "      <td>0</td>\n",
       "      <td>0</td>\n",
       "      <td>0</td>\n",
       "      <td>0</td>\n",
       "      <td>22</td>\n",
       "      <td>0.200893</td>\n",
       "      <td>65.6</td>\n",
       "      <td>50.6</td>\n",
       "      <td>29.4375</td>\n",
       "      <td>7.9</td>\n",
       "    </tr>\n",
       "    <tr>\n",
       "      <th>1</th>\n",
       "      <td>1</td>\n",
       "      <td>0</td>\n",
       "      <td>0</td>\n",
       "      <td>0</td>\n",
       "      <td>0</td>\n",
       "      <td>1</td>\n",
       "      <td>0</td>\n",
       "      <td>0</td>\n",
       "      <td>0</td>\n",
       "      <td>22</td>\n",
       "      <td>0.200893</td>\n",
       "      <td>65.6</td>\n",
       "      <td>50.6</td>\n",
       "      <td>29.4375</td>\n",
       "      <td>7.9</td>\n",
       "    </tr>\n",
       "    <tr>\n",
       "      <th>2</th>\n",
       "      <td>1</td>\n",
       "      <td>0</td>\n",
       "      <td>0</td>\n",
       "      <td>0</td>\n",
       "      <td>0</td>\n",
       "      <td>1</td>\n",
       "      <td>0</td>\n",
       "      <td>0</td>\n",
       "      <td>0</td>\n",
       "      <td>22</td>\n",
       "      <td>0.200893</td>\n",
       "      <td>65.6</td>\n",
       "      <td>50.6</td>\n",
       "      <td>29.4375</td>\n",
       "      <td>7.9</td>\n",
       "    </tr>\n",
       "    <tr>\n",
       "      <th>3</th>\n",
       "      <td>1</td>\n",
       "      <td>0</td>\n",
       "      <td>0</td>\n",
       "      <td>0</td>\n",
       "      <td>1</td>\n",
       "      <td>0</td>\n",
       "      <td>0</td>\n",
       "      <td>0</td>\n",
       "      <td>0</td>\n",
       "      <td>22</td>\n",
       "      <td>0.200893</td>\n",
       "      <td>65.6</td>\n",
       "      <td>50.6</td>\n",
       "      <td>29.4375</td>\n",
       "      <td>7.9</td>\n",
       "    </tr>\n",
       "    <tr>\n",
       "      <th>4</th>\n",
       "      <td>4</td>\n",
       "      <td>0</td>\n",
       "      <td>0</td>\n",
       "      <td>0</td>\n",
       "      <td>0</td>\n",
       "      <td>1</td>\n",
       "      <td>0</td>\n",
       "      <td>0</td>\n",
       "      <td>0</td>\n",
       "      <td>22</td>\n",
       "      <td>0.200893</td>\n",
       "      <td>65.6</td>\n",
       "      <td>50.6</td>\n",
       "      <td>29.4375</td>\n",
       "      <td>7.9</td>\n",
       "    </tr>\n",
       "  </tbody>\n",
       "</table>\n",
       "</div>"
      ],
      "text/plain": [
       "   nummosquitos  wnvpresent  culex_erraticus  culex_pipiens  \\\n",
       "0             1           0                0              0   \n",
       "1             1           0                0              0   \n",
       "2             1           0                0              0   \n",
       "3             1           0                0              0   \n",
       "4             4           0                0              0   \n",
       "\n",
       "   culex_pipiens/restuans  culex_restuans  culex_salinarius  culex_tarsalis  \\\n",
       "0                       1               0                 0               0   \n",
       "1                       0               1                 0               0   \n",
       "2                       0               1                 0               0   \n",
       "3                       1               0                 0               0   \n",
       "4                       0               1                 0               0   \n",
       "\n",
       "   culex_territans  week  ten_day_avg_percip  ten_day_avg_temp  \\\n",
       "0                0    22            0.200893              65.6   \n",
       "1                0    22            0.200893              65.6   \n",
       "2                0    22            0.200893              65.6   \n",
       "3                0    22            0.200893              65.6   \n",
       "4                0    22            0.200893              65.6   \n",
       "\n",
       "   ten_day_avg_dewpoint  ten_day_avg_pressure  ten_day_avg_windspeed  \n",
       "0                  50.6               29.4375                    7.9  \n",
       "1                  50.6               29.4375                    7.9  \n",
       "2                  50.6               29.4375                    7.9  \n",
       "3                  50.6               29.4375                    7.9  \n",
       "4                  50.6               29.4375                    7.9  "
      ]
     },
     "execution_count": 4,
     "metadata": {},
     "output_type": "execute_result"
    }
   ],
   "source": [
    "model_data.head()\n"
   ]
  },
  {
   "cell_type": "code",
   "execution_count": 5,
   "metadata": {},
   "outputs": [
    {
     "data": {
      "text/plain": [
       "(551, 15)"
      ]
     },
     "execution_count": 5,
     "metadata": {},
     "output_type": "execute_result"
    }
   ],
   "source": [
    "model_data[model_data['wnvpresent'] == 1].shape\n"
   ]
  },
  {
   "cell_type": "code",
   "execution_count": 6,
   "metadata": {},
   "outputs": [],
   "source": [
    "model_data = model_data.drop('nummosquitos', axis=1)\n",
    "y = model_data.pop('wnvpresent')\n",
    "X = model_data\n"
   ]
  },
  {
   "cell_type": "code",
   "execution_count": 7,
   "metadata": {},
   "outputs": [],
   "source": [
    "X_train, X_test, y_train, y_test = train_test_split(X, y, test_size=.5, random_state=42)\n"
   ]
  },
  {
   "cell_type": "code",
   "execution_count": 8,
   "metadata": {},
   "outputs": [],
   "source": [
    "# help(RandomForestClassifier)"
   ]
  },
  {
   "cell_type": "code",
   "execution_count": 9,
   "metadata": {},
   "outputs": [],
   "source": [
    "forest = RandomForestClassifier(n_jobs=-1)"
   ]
  },
  {
   "cell_type": "code",
   "execution_count": null,
   "metadata": {},
   "outputs": [],
   "source": [
    "purities = ['gini', 'entropy']\n",
    "weights = ['balanced_subsample']\n",
    "min_sample = [1/i for i in range(2, 11)]\n",
    "depths = [i for i in range(5, 20)]\n",
    "features = [i for i, j in enumerate(X_train.columns, start=1)]"
   ]
  },
  {
   "cell_type": "code",
   "execution_count": null,
   "metadata": {},
   "outputs": [
    {
     "name": "stdout",
     "output_type": "stream",
     "text": [
      "Fitting 3 folds for each of 1755 candidates, totalling 5265 fits\n"
     ]
    },
    {
     "name": "stderr",
     "output_type": "stream",
     "text": [
      "[Parallel(n_jobs=-1)]: Done  34 tasks      | elapsed:    1.7s\n",
      "[Parallel(n_jobs=-1)]: Done 184 tasks      | elapsed:    7.7s\n",
      "[Parallel(n_jobs=-1)]: Done 434 tasks      | elapsed:   18.4s\n"
     ]
    }
   ],
   "source": [
    "param_grid = dict(max_depth=depths,\n",
    "                  max_features=features,\n",
    "                  min_samples_leaf=min_sample,\n",
    "                  class_weight=weights)\n",
    "\n",
    "grid = GridSearchCV(forest,\n",
    "                    param_grid,\n",
    "                    cv=3,\n",
    "                    scoring='neg_log_loss',\n",
    "                    n_jobs=-1,\n",
    "                    verbose=True)\n",
    "\n",
    "grid.fit(X_train, y_train)\n",
    "\n",
    "best_results = {'params': list(grid.best_params_.items()), 'score': grid.best_score_}\n",
    "print(best_results)\n",
    "\n",
    "best_forest = grid.best_estimator_"
   ]
  },
  {
   "cell_type": "code",
   "execution_count": null,
   "metadata": {},
   "outputs": [],
   "source": [
    "best_forest"
   ]
  },
  {
   "cell_type": "code",
   "execution_count": null,
   "metadata": {},
   "outputs": [],
   "source": [
    "score_forest = cross_val_score(best_forest, X_train, y_train, cv=10, n_jobs=-1)\n",
    "\n",
    "score_forest"
   ]
  },
  {
   "cell_type": "code",
   "execution_count": null,
   "metadata": {},
   "outputs": [],
   "source": [
    "best_forest.fit(X_train, y_train)\n",
    "predict_forest = best_forest.predict(X_test)\n",
    "\n",
    "print(accuracy_score(y_test, predict_forest), '\\n')\n",
    "print(classification_report(y_test, predict_forest))\n",
    "\n",
    "eval_sklearn_model(y_test, predict_forest, model=best_forest, X=X_test)\n"
   ]
  },
  {
   "cell_type": "code",
   "execution_count": null,
   "metadata": {},
   "outputs": [],
   "source": []
  }
 ],
 "metadata": {
  "kernelspec": {
   "display_name": "Python 3",
   "language": "python",
   "name": "python3"
  },
  "language_info": {
   "codemirror_mode": {
    "name": "ipython",
    "version": 3
   },
   "file_extension": ".py",
   "mimetype": "text/x-python",
   "name": "python",
   "nbconvert_exporter": "python",
   "pygments_lexer": "ipython3",
   "version": "3.6.3"
  }
 },
 "nbformat": 4,
 "nbformat_minor": 2
}
