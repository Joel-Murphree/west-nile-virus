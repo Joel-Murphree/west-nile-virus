{
 "cells": [
  {
   "cell_type": "markdown",
   "metadata": {},
   "source": [
    "### IMPORT STUFF HERE"
   ]
  },
  {
   "cell_type": "code",
   "execution_count": null,
   "metadata": {
    "collapsed": true
   },
   "outputs": [],
   "source": [
    "pip install geopy"
   ]
  },
  {
   "cell_type": "code",
   "execution_count": 784,
   "metadata": {},
   "outputs": [
    {
     "name": "stdout",
     "output_type": "stream",
     "text": [
      "CPU times: user 59 µs, sys: 101 µs, total: 160 µs\n",
      "Wall time: 170 µs\n"
     ]
    }
   ],
   "source": [
    "%%time\n",
    "# Importing all the necessary libraries for this project.\n",
    "\n",
    "import pandas as pd\n",
    "import numpy as np\n",
    "import pandas as pd\n",
    "import matplotlib.pyplot as plt\n",
    "import seaborn as sns\n",
    "from pylab import rcParams\n",
    "import datetime\n",
    "import datetime as dt\n",
    "from sklearn import datasets, linear_model\n",
    "from sklearn.model_selection import train_test_split\n",
    "from sklearn.metrics import mean_squared_error\n",
    "import math\n",
    "import statsmodels.api as sm\n",
    "from sklearn import metrics\n",
    "from bs4 import BeautifulSoup\n",
    "import requests\n",
    "import time\n",
    "from selenium import webdriver\n",
    "import re\n",
    "from selenium.webdriver.common.keys import Keys\n",
    "from uuid import uuid4 as uuid\n",
    "from datetime import datetime \n",
    "from pygeocoder import Geocoder\n",
    "from time import sleep\n"
   ]
  },
  {
   "cell_type": "code",
   "execution_count": 887,
   "metadata": {
    "collapsed": true
   },
   "outputs": [],
   "source": [
    "wnv_data = pd.read_csv(\"train.csv\", error_bad_lines=False, low_memory=False)\n",
    "test = pd.read_csv(\"test.csv\", error_bad_lines=False, low_memory=False)\n",
    "\n",
    "\n",
    "wnv_spray = pd.read_csv(\"spray.csv\", error_bad_lines=False, low_memory=False)\n",
    "\n",
    "wnv_weather = pd.read_csv(\"weather.csv\", error_bad_lines=False, low_memory=False)\n",
    "\n",
    "census_info = pd.read_csv(\"census_info.csv\", error_bad_lines=False, low_memory=False)\n",
    "\n",
    "census_age = pd.read_csv(\"census_age.csv\", error_bad_lines=False, low_memory=False)\n",
    "\n",
    "cols = ['2005','2006','2007','2008','2009','2010','2011','2012','2013','2014','2015','2016']\n",
    "robin= pd.DataFrame([[7502,6923,6543,6123,6915,7003,7907,7343,7385,6814,6341,6538]],columns=cols)"
   ]
  },
  {
   "cell_type": "markdown",
   "metadata": {},
   "source": [
    "### FIX CENSUS_INFO columns & dtypes"
   ]
  },
  {
   "cell_type": "code",
   "execution_count": 888,
   "metadata": {
    "collapsed": true
   },
   "outputs": [],
   "source": [
    "census_info = census_info.drop([\"GEO.id\", \"GEO.display-label\", \"Unnamed: 0\"], axis = 1)\n",
    "census_info[\"zip_code\"] = census_info[\"zip_code\"].astype(str)\n",
    "\n",
    "census_age = census_age.drop([\"GEO.id\", \"GEO.display-label\", \"Unnamed: 0\"], axis = 1)\n",
    "census_age[\"zip_code\"] = census_age[\"zip_code\"].astype(str)"
   ]
  },
  {
   "cell_type": "code",
   "execution_count": 891,
   "metadata": {
    "collapsed": true
   },
   "outputs": [
    {
     "data": {
      "text/plain": [
       "2012-07-09    1293\n",
       "2012-07-27    1282\n",
       "2012-08-03    1282\n",
       "2012-07-19    1260\n",
       "2010-07-13    1257\n",
       "2012-07-13    1256\n",
       "2014-08-14    1254\n",
       "2014-08-21    1253\n",
       "2008-09-09    1248\n",
       "2008-09-02    1247\n",
       "2008-08-19    1247\n",
       "2014-08-07    1247\n",
       "2012-07-20    1245\n",
       "2014-07-31    1245\n",
       "2010-07-19    1241\n",
       "2014-06-19    1236\n",
       "2014-08-28    1234\n",
       "2008-07-24    1234\n",
       "2008-08-13    1233\n",
       "2014-07-10    1233\n",
       "2008-08-26    1232\n",
       "2012-08-10    1231\n",
       "2012-06-29    1231\n",
       "2010-07-26    1229\n",
       "2014-07-03    1229\n",
       "2012-08-17    1229\n",
       "2014-09-05    1229\n",
       "2010-06-28    1227\n",
       "2014-06-12    1225\n",
       "2010-07-30    1225\n",
       "              ... \n",
       "2010-09-24    1214\n",
       "2012-09-20    1214\n",
       "2012-06-15    1214\n",
       "2008-08-12    1214\n",
       "2008-08-04    1213\n",
       "2012-06-08    1213\n",
       "2008-09-03    1213\n",
       "2012-08-09    1213\n",
       "2010-06-02    1212\n",
       "2010-06-11    1211\n",
       "2010-07-29    1211\n",
       "2008-07-01    1211\n",
       "2008-09-19    1211\n",
       "2008-07-28    1210\n",
       "2010-08-26    1210\n",
       "2010-09-10    1210\n",
       "2008-07-04    1209\n",
       "2010-08-05    1209\n",
       "2008-07-11    1209\n",
       "2012-08-30    1209\n",
       "2010-06-18    1209\n",
       "2010-08-19    1209\n",
       "2010-07-01    1208\n",
       "2008-07-21    1208\n",
       "2014-10-02    1208\n",
       "2010-09-16    1208\n",
       "2010-09-23    1208\n",
       "2008-06-11    1208\n",
       "2012-08-23    1208\n",
       "2008-06-17    1208\n",
       "Name: Date, Length: 95, dtype: int64"
      ]
     },
     "execution_count": 891,
     "metadata": {},
     "output_type": "execute_result"
    }
   ],
   "source": [
    "test[\"Date\"].value_counts()"
   ]
  },
  {
   "cell_type": "code",
   "execution_count": 892,
   "metadata": {},
   "outputs": [],
   "source": [
    "def zip_code(x):\n",
    "    if \"60\" in x.split()[-2]:\n",
    "        zipcode = x.split()[-2].replace(\",\", \"\")\n",
    "    elif \"South Doty Avenue, Chicago, IL, USA\" in x:\n",
    "        zipcode = \"60633\"\n",
    "    elif \"South Stony Island Avenue, Chicago, IL, USA\" in x:\n",
    "        zipcode = \"60617\"\n",
    "    elif \"South Torrence Avenue, Chicago, IL, USA\" in x:\n",
    "        zipcode = \"60617\"\n",
    "    elif \"South Cottage Grove Avenue, Chicago, IL, USA\" in x:\n",
    "        zipcode = \"60619\"\n",
    "    elif \"South Vincennes Avenue, Chicago, IL, USA\" in x:\n",
    "        zipcode = \"60620\"\n",
    "    elif \"East 91st Place, Chicago, IL, USA\" in x:\n",
    "        zipcode = \"60619\"\n",
    "    elif \"West Garfield Boulevard, Chicago, IL, USA\" in x:\n",
    "        zipcode = \"60636\"\n",
    "    elif \"6400 West Strong Street, Chicago, IL, USA\" in x:\n",
    "        zipcode = \"60630\"\n",
    "    elif \"East 91st Street, Chicago, IL, USA\" in x:\n",
    "        zipcode = \"60617\"\n",
    "    elif \"West 37th Place, Chicago, IL, USA\" in x:\n",
    "        zipcode = \"60609\"\n",
    "    elif \"South Wallace Street, Chicago, IL, USA\" in x:\n",
    "        zipcode = \"60620\"\n",
    "    elif x == \"Chicago, IL, USA\":\n",
    "        zipcode = \"60613\"\n",
    "    else:\n",
    "        zipcode = \"00000\"\n",
    "    \n",
    "    return(zipcode)\n",
    "\n",
    "def fix_date(x):\n",
    "    fix_date = datetime.strptime(x, \"%Y-%m-%d\")\n",
    "    return(fix_date)"
   ]
  },
  {
   "cell_type": "code",
   "execution_count": 915,
   "metadata": {
    "collapsed": true
   },
   "outputs": [],
   "source": [
    "## FIX DATE, ZIPCODE HERE"
   ]
  },
  {
   "cell_type": "code",
   "execution_count": 893,
   "metadata": {},
   "outputs": [],
   "source": [
    "wnv_data[\"Date\"] = wnv_data[\"Date\"].apply(fix_date)"
   ]
  },
  {
   "cell_type": "code",
   "execution_count": 894,
   "metadata": {
    "collapsed": true
   },
   "outputs": [],
   "source": [
    "wnv_data[\"ZipCode\"] = wnv_data[\"Address\"].apply(zip_code)"
   ]
  },
  {
   "cell_type": "code",
   "execution_count": 895,
   "metadata": {},
   "outputs": [
    {
     "data": {
      "text/plain": [
       "Series([], Name: AddressNumberAndStreet, dtype: int64)"
      ]
     },
     "execution_count": 895,
     "metadata": {},
     "output_type": "execute_result"
    }
   ],
   "source": [
    "wnv_data[wnv_data[\"ZipCode\"]==\"00000\"][\"AddressNumberAndStreet\"].value_counts()"
   ]
  },
  {
   "cell_type": "code",
   "execution_count": 896,
   "metadata": {
    "collapsed": true
   },
   "outputs": [
    {
     "data": {
      "text/plain": [
       "Date                      datetime64[ns]\n",
       "Address                           object\n",
       "Species                           object\n",
       "Block                              int64\n",
       "Street                            object\n",
       "Trap                              object\n",
       "AddressNumberAndStreet            object\n",
       "Latitude                         float64\n",
       "Longitude                        float64\n",
       "AddressAccuracy                    int64\n",
       "NumMosquitos                       int64\n",
       "WnvPresent                         int64\n",
       "ZipCode                           object\n",
       "dtype: object"
      ]
     },
     "execution_count": 896,
     "metadata": {},
     "output_type": "execute_result"
    }
   ],
   "source": [
    "wnv_data.dtypes"
   ]
  },
  {
   "cell_type": "code",
   "execution_count": 897,
   "metadata": {},
   "outputs": [],
   "source": [
    "census_age = census_age.replace(\"-\", 0)\n",
    "\n",
    "census_age.zip_code = census_age.zip_code.astype(object)\n",
    "census_age.total_population = census_age.total_population.astype(int)"
   ]
  },
  {
   "cell_type": "code",
   "execution_count": 898,
   "metadata": {},
   "outputs": [
    {
     "data": {
      "text/html": [
       "<div>\n",
       "<style>\n",
       "    .dataframe thead tr:only-child th {\n",
       "        text-align: right;\n",
       "    }\n",
       "\n",
       "    .dataframe thead th {\n",
       "        text-align: left;\n",
       "    }\n",
       "\n",
       "    .dataframe tbody tr th {\n",
       "        vertical-align: top;\n",
       "    }\n",
       "</style>\n",
       "<table border=\"1\" class=\"dataframe\">\n",
       "  <thead>\n",
       "    <tr style=\"text-align: right;\">\n",
       "      <th></th>\n",
       "      <th>zip_code</th>\n",
       "      <th>total_population</th>\n",
       "      <th>percent_age_under_5</th>\n",
       "      <th>percent_age_5-9</th>\n",
       "      <th>percent_age_10-14</th>\n",
       "      <th>percent_age_15-19</th>\n",
       "      <th>percent_age_20-24</th>\n",
       "      <th>percent_age_25-34</th>\n",
       "      <th>percent_age_35-44</th>\n",
       "      <th>percent_age_45-54</th>\n",
       "      <th>percent_age_55-59</th>\n",
       "      <th>percent_age_60-64</th>\n",
       "      <th>percent_age_65-74</th>\n",
       "      <th>percent_age_75-84</th>\n",
       "      <th>percent_age85_and_over</th>\n",
       "      <th>percent_age_65_and_over</th>\n",
       "      <th>median_age</th>\n",
       "    </tr>\n",
       "  </thead>\n",
       "  <tbody>\n",
       "    <tr>\n",
       "      <th>0</th>\n",
       "      <td>60002</td>\n",
       "      <td>24250</td>\n",
       "      <td>5.7</td>\n",
       "      <td>7.2</td>\n",
       "      <td>6.4</td>\n",
       "      <td>7.9</td>\n",
       "      <td>4.7</td>\n",
       "      <td>9.9</td>\n",
       "      <td>14.2</td>\n",
       "      <td>17.3</td>\n",
       "      <td>8.1</td>\n",
       "      <td>6.5</td>\n",
       "      <td>8.2</td>\n",
       "      <td>2.8</td>\n",
       "      <td>1</td>\n",
       "      <td>12</td>\n",
       "      <td>41.2</td>\n",
       "    </tr>\n",
       "    <tr>\n",
       "      <th>1</th>\n",
       "      <td>60004</td>\n",
       "      <td>49957</td>\n",
       "      <td>5.5</td>\n",
       "      <td>6.5</td>\n",
       "      <td>6</td>\n",
       "      <td>6.3</td>\n",
       "      <td>4.8</td>\n",
       "      <td>11.8</td>\n",
       "      <td>13.1</td>\n",
       "      <td>16.1</td>\n",
       "      <td>6.4</td>\n",
       "      <td>6.5</td>\n",
       "      <td>8.9</td>\n",
       "      <td>5.6</td>\n",
       "      <td>2.6</td>\n",
       "      <td>17.1</td>\n",
       "      <td>41.8</td>\n",
       "    </tr>\n",
       "    <tr>\n",
       "      <th>2</th>\n",
       "      <td>60005</td>\n",
       "      <td>30931</td>\n",
       "      <td>7</td>\n",
       "      <td>5.1</td>\n",
       "      <td>7.3</td>\n",
       "      <td>6.1</td>\n",
       "      <td>4.4</td>\n",
       "      <td>13.5</td>\n",
       "      <td>14.9</td>\n",
       "      <td>14.8</td>\n",
       "      <td>4.9</td>\n",
       "      <td>5.9</td>\n",
       "      <td>7.5</td>\n",
       "      <td>5.2</td>\n",
       "      <td>3.4</td>\n",
       "      <td>16</td>\n",
       "      <td>39.8</td>\n",
       "    </tr>\n",
       "    <tr>\n",
       "      <th>3</th>\n",
       "      <td>60007</td>\n",
       "      <td>33973</td>\n",
       "      <td>4.6</td>\n",
       "      <td>4.9</td>\n",
       "      <td>6.5</td>\n",
       "      <td>6.3</td>\n",
       "      <td>5.7</td>\n",
       "      <td>11.3</td>\n",
       "      <td>12.9</td>\n",
       "      <td>18.4</td>\n",
       "      <td>7.6</td>\n",
       "      <td>6.9</td>\n",
       "      <td>7.7</td>\n",
       "      <td>5.4</td>\n",
       "      <td>1.8</td>\n",
       "      <td>14.9</td>\n",
       "      <td>43.5</td>\n",
       "    </tr>\n",
       "    <tr>\n",
       "      <th>4</th>\n",
       "      <td>60008</td>\n",
       "      <td>22302</td>\n",
       "      <td>8.1</td>\n",
       "      <td>6.2</td>\n",
       "      <td>5.2</td>\n",
       "      <td>6</td>\n",
       "      <td>5.8</td>\n",
       "      <td>16.6</td>\n",
       "      <td>13</td>\n",
       "      <td>14.9</td>\n",
       "      <td>6.4</td>\n",
       "      <td>4.9</td>\n",
       "      <td>6.2</td>\n",
       "      <td>4.5</td>\n",
       "      <td>2</td>\n",
       "      <td>12.8</td>\n",
       "      <td>36.2</td>\n",
       "    </tr>\n",
       "  </tbody>\n",
       "</table>\n",
       "</div>"
      ],
      "text/plain": [
       "  zip_code  total_population percent_age_under_5 percent_age_5-9  \\\n",
       "0    60002             24250                 5.7             7.2   \n",
       "1    60004             49957                 5.5             6.5   \n",
       "2    60005             30931                   7             5.1   \n",
       "3    60007             33973                 4.6             4.9   \n",
       "4    60008             22302                 8.1             6.2   \n",
       "\n",
       "  percent_age_10-14 percent_age_15-19 percent_age_20-24 percent_age_25-34  \\\n",
       "0               6.4               7.9               4.7               9.9   \n",
       "1                 6               6.3               4.8              11.8   \n",
       "2               7.3               6.1               4.4              13.5   \n",
       "3               6.5               6.3               5.7              11.3   \n",
       "4               5.2                 6               5.8              16.6   \n",
       "\n",
       "  percent_age_35-44 percent_age_45-54 percent_age_55-59 percent_age_60-64  \\\n",
       "0              14.2              17.3               8.1               6.5   \n",
       "1              13.1              16.1               6.4               6.5   \n",
       "2              14.9              14.8               4.9               5.9   \n",
       "3              12.9              18.4               7.6               6.9   \n",
       "4                13              14.9               6.4               4.9   \n",
       "\n",
       "  percent_age_65-74 percent_age_75-84 percent_age85_and_over  \\\n",
       "0               8.2               2.8                      1   \n",
       "1               8.9               5.6                    2.6   \n",
       "2               7.5               5.2                    3.4   \n",
       "3               7.7               5.4                    1.8   \n",
       "4               6.2               4.5                      2   \n",
       "\n",
       "  percent_age_65_and_over median_age  \n",
       "0                      12       41.2  \n",
       "1                    17.1       41.8  \n",
       "2                      16       39.8  \n",
       "3                    14.9       43.5  \n",
       "4                    12.8       36.2  "
      ]
     },
     "execution_count": 898,
     "metadata": {},
     "output_type": "execute_result"
    }
   ],
   "source": [
    "census_age.head()"
   ]
  },
  {
   "cell_type": "markdown",
   "metadata": {},
   "source": [
    "#### MERGE WNV + CENSUS = WNV_POP. THEN MERGE WNV_POP + CENSUS_AGE = WNV_POP_AGE. THEN MERGE MERGE WNV_POP_AGE + SPRAY = WNV_SPRAY"
   ]
  },
  {
   "cell_type": "code",
   "execution_count": 910,
   "metadata": {
    "collapsed": true
   },
   "outputs": [],
   "source": [
    "wnv_pop = pd.merge(wnv_data, census_info, how = \"left\", left_on=[\"ZipCode\"], right_on=[\"zip_code\"])\n",
    "wnv_pop = wnv_pop.drop(\"zip_code\", axis = 1)"
   ]
  },
  {
   "cell_type": "code",
   "execution_count": 932,
   "metadata": {
    "collapsed": true
   },
   "outputs": [],
   "source": [
    "wnv_pop_age = pd.merge(wnv_pop, census_age, how = \"left\", left_on=[\"ZipCode\"], right_on=[\"zip_code\"])\n",
    "wnv_pop_age = wnv_pop_age.drop(\"zip_code\", axis = 1)"
   ]
  },
  {
   "cell_type": "code",
   "execution_count": 954,
   "metadata": {},
   "outputs": [],
   "source": [
    "wnv_pop_age.to_csv('WNV_Pop_Age.csv', mode='a', header=True)"
   ]
  }
 ],
 "metadata": {
  "kernelspec": {
   "display_name": "Python 3",
   "language": "python",
   "name": "python3"
  },
  "language_info": {
   "codemirror_mode": {
    "name": "ipython",
    "version": 3
   },
   "file_extension": ".py",
   "mimetype": "text/x-python",
   "name": "python",
   "nbconvert_exporter": "python",
   "pygments_lexer": "ipython3",
   "version": "3.6.2"
  }
 },
 "nbformat": 4,
 "nbformat_minor": 2
}
